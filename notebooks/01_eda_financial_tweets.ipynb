{
 "cells": [
  {
   "cell_type": "code",
   "execution_count": 1,
   "id": "ef36b570",
   "metadata": {},
   "outputs": [
    {
     "name": "stderr",
     "output_type": "stream",
     "text": [
      "/Users/anurag/Desktop/Self/Coding Projects/financial-sentiment-analysis/fin-sen-env/lib/python3.9/site-packages/tqdm/auto.py:21: TqdmWarning: IProgress not found. Please update jupyter and ipywidgets. See https://ipywidgets.readthedocs.io/en/stable/user_install.html\n",
      "  from .autonotebook import tqdm as notebook_tqdm\n"
     ]
    }
   ],
   "source": [
    "import os\n",
    "import re\n",
    "import pandas as pd\n",
    "import seaborn as sns\n",
    "import matplotlib.pyplot as plt\n",
    "from datasets import load_dataset, Dataset"
   ]
  },
  {
   "cell_type": "markdown",
   "id": "2b9031d2",
   "metadata": {},
   "source": [
    "# Dataset\n",
    "This dataset contains a collection of finance-related tweets labelled for sentiment classification. Each tweet is annotated as either positive, neutral, or negative, reflecting the tweet's tone in the context of financial markets. The data is sourced from public Twitter posts.\n",
    "\n",
    "When using this dataset with Hugging Face models, predictions are returned in the format `LABEL_0`, `LABEL_1`, and `LABEL_2`. These model-generated labels correspond to the following sentiment classes:\n",
    "\n",
    "```python\n",
    "sentiments = {\n",
    "    \"LABEL_0\": \"Bearish\",\n",
    "    \"LABEL_1\": \"Bullish\",\n",
    "    \"LABEL_2\": \"Neutral\"\n",
    "}\n",
    "```\n",
    "\n",
    "This mapping allows model outputs to be interpreted in the context of market sentiment, where:\n",
    "- `Bearish` indicates a negative or pessimistic outlook,\n",
    "- `Bullish` indicates a positive or optimistic outlook, and\n",
    "- `Neutral` reflects an informational or non-directional tone."
   ]
  },
  {
   "cell_type": "code",
   "execution_count": 4,
   "id": "5685e30e",
   "metadata": {},
   "outputs": [
    {
     "data": {
      "text/plain": [
       "DatasetDict({\n",
       "    train: Dataset({\n",
       "        features: ['text', 'label'],\n",
       "        num_rows: 9543\n",
       "    })\n",
       "    validation: Dataset({\n",
       "        features: ['text', 'label'],\n",
       "        num_rows: 2388\n",
       "    })\n",
       "})"
      ]
     },
     "execution_count": 4,
     "metadata": {},
     "output_type": "execute_result"
    }
   ],
   "source": [
    "dataset = load_dataset(\"zeroshot/twitter-financial-news-sentiment\")\n",
    "dataset"
   ]
  },
  {
   "cell_type": "code",
   "execution_count": 11,
   "id": "65a04f3d",
   "metadata": {},
   "outputs": [
    {
     "data": {
      "text/html": [
       "<div>\n",
       "<style scoped>\n",
       "    .dataframe tbody tr th:only-of-type {\n",
       "        vertical-align: middle;\n",
       "    }\n",
       "\n",
       "    .dataframe tbody tr th {\n",
       "        vertical-align: top;\n",
       "    }\n",
       "\n",
       "    .dataframe thead th {\n",
       "        text-align: right;\n",
       "    }\n",
       "</style>\n",
       "<table border=\"1\" class=\"dataframe\">\n",
       "  <thead>\n",
       "    <tr style=\"text-align: right;\">\n",
       "      <th></th>\n",
       "      <th>text</th>\n",
       "      <th>label</th>\n",
       "    </tr>\n",
       "  </thead>\n",
       "  <tbody>\n",
       "    <tr>\n",
       "      <th>0</th>\n",
       "      <td>$BYND - JPMorgan reels in expectations on Beyo...</td>\n",
       "      <td>0</td>\n",
       "    </tr>\n",
       "    <tr>\n",
       "      <th>1</th>\n",
       "      <td>$CCL $RCL - Nomura points to bookings weakness...</td>\n",
       "      <td>0</td>\n",
       "    </tr>\n",
       "    <tr>\n",
       "      <th>2</th>\n",
       "      <td>$CX - Cemex cut at Credit Suisse, J.P. Morgan ...</td>\n",
       "      <td>0</td>\n",
       "    </tr>\n",
       "    <tr>\n",
       "      <th>3</th>\n",
       "      <td>$ESS: BTIG Research cuts to Neutral https://t....</td>\n",
       "      <td>0</td>\n",
       "    </tr>\n",
       "    <tr>\n",
       "      <th>4</th>\n",
       "      <td>$FNKO - Funko slides after Piper Jaffray PT cu...</td>\n",
       "      <td>0</td>\n",
       "    </tr>\n",
       "    <tr>\n",
       "      <th>...</th>\n",
       "      <td>...</td>\n",
       "      <td>...</td>\n",
       "    </tr>\n",
       "    <tr>\n",
       "      <th>9538</th>\n",
       "      <td>The Week's Gainers and Losers on the Stoxx Eur...</td>\n",
       "      <td>2</td>\n",
       "    </tr>\n",
       "    <tr>\n",
       "      <th>9539</th>\n",
       "      <td>Tupperware Brands among consumer gainers; Unil...</td>\n",
       "      <td>2</td>\n",
       "    </tr>\n",
       "    <tr>\n",
       "      <th>9540</th>\n",
       "      <td>vTv Therapeutics leads healthcare gainers; Myo...</td>\n",
       "      <td>2</td>\n",
       "    </tr>\n",
       "    <tr>\n",
       "      <th>9541</th>\n",
       "      <td>WORK, XPO, PYX and AMKR among after hour movers</td>\n",
       "      <td>2</td>\n",
       "    </tr>\n",
       "    <tr>\n",
       "      <th>9542</th>\n",
       "      <td>YNDX, I, QD and OESX among tech movers</td>\n",
       "      <td>2</td>\n",
       "    </tr>\n",
       "  </tbody>\n",
       "</table>\n",
       "<p>9543 rows × 2 columns</p>\n",
       "</div>"
      ],
      "text/plain": [
       "                                                   text  label\n",
       "0     $BYND - JPMorgan reels in expectations on Beyo...      0\n",
       "1     $CCL $RCL - Nomura points to bookings weakness...      0\n",
       "2     $CX - Cemex cut at Credit Suisse, J.P. Morgan ...      0\n",
       "3     $ESS: BTIG Research cuts to Neutral https://t....      0\n",
       "4     $FNKO - Funko slides after Piper Jaffray PT cu...      0\n",
       "...                                                 ...    ...\n",
       "9538  The Week's Gainers and Losers on the Stoxx Eur...      2\n",
       "9539  Tupperware Brands among consumer gainers; Unil...      2\n",
       "9540  vTv Therapeutics leads healthcare gainers; Myo...      2\n",
       "9541    WORK, XPO, PYX and AMKR among after hour movers      2\n",
       "9542             YNDX, I, QD and OESX among tech movers      2\n",
       "\n",
       "[9543 rows x 2 columns]"
      ]
     },
     "execution_count": 11,
     "metadata": {},
     "output_type": "execute_result"
    }
   ],
   "source": [
    "df = pd.DataFrame(dataset[\"train\"])\n",
    "df"
   ]
  },
  {
   "cell_type": "markdown",
   "id": "87fb63bb",
   "metadata": {},
   "source": [
    "Straight away we can see that the labels are numerical, and the text associated seems to be slightly messy, and also have multiple ticker symbols. The first goal is to add more readability to the dataset."
   ]
  },
  {
   "cell_type": "markdown",
   "id": "c12ecc0d",
   "metadata": {},
   "source": [
    "## Sentiment Spreads"
   ]
  },
  {
   "cell_type": "code",
   "execution_count": 12,
   "id": "9c05cb00",
   "metadata": {},
   "outputs": [],
   "source": [
    "sentiments = {\n",
    "    0: \"bearish\", \n",
    "    1: \"bullish\", \n",
    "    2: \"neutral\"\n",
    "}  \n",
    "df['label_str'] = df['label'].map(sentiments) # new column for readability"
   ]
  },
  {
   "cell_type": "code",
   "execution_count": 13,
   "id": "fb6007d1",
   "metadata": {},
   "outputs": [
    {
     "name": "stdout",
     "output_type": "stream",
     "text": [
      "       count\n",
      "label       \n",
      "2       6178\n",
      "1       1923\n",
      "0       1442 \n",
      "\n",
      "        proportion\n",
      "label            \n",
      "2       64.738552\n",
      "1       20.150896\n",
      "0       15.110552\n"
     ]
    }
   ],
   "source": [
    "label_counts = df['label'].value_counts()\n",
    "label_percentage = df['label'].value_counts(normalize=True) * 100.\n",
    "\n",
    "print(label_counts.to_frame(), \"\\n\\n\", label_percentage.to_frame())"
   ]
  },
  {
   "cell_type": "markdown",
   "id": "2ab691af",
   "metadata": {},
   "source": [
    "## Frequency of classes\n",
    "We can create a bar plot to obtain a visual of the spread of sentiments, even though above we can see that the neutral label makes up more than half the dataset."
   ]
  },
  {
   "cell_type": "code",
   "execution_count": 20,
   "id": "abc562af",
   "metadata": {},
   "outputs": [
    {
     "data": {
      "image/png": "[encoded data removed]",
      "text/plain": [
       "<Figure size 640x480 with 1 Axes>"
      ]
     },
     "metadata": {},
     "output_type": "display_data"
    }
   ],
   "source": [
    "sns.countplot(x='label_str', data=df, hue='label_str', legend=False)\n",
    "plt.title(\"Spread Of Sentiments\")\n",
    "plt.show()"
   ]
  },
  {
   "cell_type": "markdown",
   "id": "bc5c9b29",
   "metadata": {},
   "source": [
    "We can see that the dataset is **heavily skewed** toward neutral tweets. Specifically, neutral labels make up around **65%** of the total data, which could lead to class imbalance issues during model training.\n",
    "\n",
    "This imbalance may cause the model to favour the neutral class, so it'll be beneficial to consider **class weighting** and **resampling** as they might be necessary to improve performance on minority classes."
   ]
  }
 ],
 "metadata": {
  "kernelspec": {
   "display_name": "fin-sen-env",
   "language": "python",
   "name": "python3"
  },
  "language_info": {
   "codemirror_mode": {
    "name": "ipython",
    "version": 3
   },
   "file_extension": ".py",
   "mimetype": "text/x-python",
   "name": "python",
   "nbconvert_exporter": "python",
   "pygments_lexer": "ipython3",
   "version": "3.9.5"
  }
 },
 "nbformat": 4,
 "nbformat_minor": 5
}
